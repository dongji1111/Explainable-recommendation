{
 "cells": [
  {
   "cell_type": "code",
   "execution_count": 3,
   "metadata": {},
   "outputs": [],
   "source": [
    "import numpy as np\n",
    "import matplotlib.pyplot as plt\n",
    "from numba import cuda\n",
    "cuda.select_device(0)\n",
    "np.random.seed(0)"
   ]
  },
  {
   "cell_type": "markdown",
   "metadata": {},
   "source": [
    "### read the file"
   ]
  },
  {
   "cell_type": "code",
   "execution_count": 98,
   "metadata": {},
   "outputs": [
    {
     "name": "stdout",
     "output_type": "stream",
     "text": [
      "Preparing data.........\n",
      "Finish preparing data\n"
     ]
    }
   ],
   "source": [
    "file = open(\"yelp_train.txt\", 'r')\n",
    "lines = file.readlines()\n",
    "numberOfUsers = 0\n",
    "numberOfItems = 0\n",
    "userID = np.zeros((len(lines)), dtype=int)\n",
    "itemID = np.zeros((len(lines)), dtype=int)\n",
    "rating = np.zeros((len(lines)))\n",
    "count = 0\n",
    "\n",
    "print(\"Preparing data.........\")\n",
    "for line in lines:\n",
    "    listOfLine = line.split(\"\\n\")[0].split(\",\")\n",
    "    userID[count] = int(listOfLine[0])\n",
    "    # print(userID[count])\n",
    "    \n",
    "    if userID[count] + 1 > numberOfUsers:\n",
    "        numberOfUsers = userID[count] + 1\n",
    "        \n",
    "    itemID[count] = int(listOfLine[1])\n",
    "    # print(itemID[count])\n",
    "    if itemID[count] + 1 > numberOfItems:\n",
    "        numberOfItems = itemID[count] + 1\n",
    "    rating[count] = float(listOfLine[2])\n",
    "    count = count + 1\n",
    "print(\"Finish preparing data\")"
   ]
  },
  {
   "cell_type": "code",
   "execution_count": 113,
   "metadata": {},
   "outputs": [
    {
     "name": "stdout",
     "output_type": "stream",
     "text": [
      "Finish preparing data\n"
     ]
    }
   ],
   "source": [
    "rating_matrix = np.zeros((numberOfUsers, numberOfItems))\n",
    "for line in lines:\n",
    "    listOfLine = line.split(\"\\n\")[0].split(\",\")\n",
    "    uID = int(listOfLine[0])    \n",
    "    iID = int(listOfLine[1])\n",
    "    r = float(listOfLine[2])\n",
    "    rating_matrix[uID, iID] = r\n",
    "#     count = count + 1\n",
    "\n",
    "print(\"Finish preparing data\")"
   ]
  },
  {
   "cell_type": "markdown",
   "metadata": {},
   "source": [
    "### launch the GPU for computation"
   ]
  },
  {
   "cell_type": "code",
   "execution_count": 5,
   "metadata": {},
   "outputs": [],
   "source": [
    "threadsperblock = 32\n",
    "blockspergrid = (count + (threadsperblock - 1)) // threadsperblock\n",
    "# increment_by_one[blockspergrid, threadsperblock](lines)"
   ]
  },
  {
   "cell_type": "code",
   "execution_count": 6,
   "metadata": {},
   "outputs": [],
   "source": [
    "alpha = 0.05\n",
    "lambda_u = 0.02\n",
    "lambda_v = 0.02\n",
    "K = 20"
   ]
  },
  {
   "cell_type": "code",
   "execution_count": 7,
   "metadata": {},
   "outputs": [
    {
     "data": {
      "text/plain": [
       "1.0"
      ]
     },
     "execution_count": 7,
     "metadata": {},
     "output_type": "execute_result"
    }
   ],
   "source": [
    "rating[count-1]"
   ]
  },
  {
   "cell_type": "markdown",
   "metadata": {},
   "source": [
    "### create variables"
   ]
  },
  {
   "cell_type": "code",
   "execution_count": null,
   "metadata": {},
   "outputs": [],
   "source": [
    "@cuda.jit('void(float32[:,:], float32[:,:], float32[:,:])')\n",
    "def predict(U, I, P):\n",
    "    x, y = cuda.grid(2)\n",
    "    if x >= cols or y >= rows:\n",
    "        return\n",
    "\n",
    "    P[y, x] = 0\n",
    "    for k in range(K):\n",
    "        P[y, x] += U[y, k] * I[k, x]\n",
    "\n",
    "\n",
    "@cuda.jit('void(float32[:,:], float32[:,:], float32[:,:], float32[:,:], float32[:,:], float32[:,:], float32[:,:])')\n",
    "def error(R, P, U, I, Err, UReg, IReg):\n",
    "    x, y = cuda.grid(2)\n",
    "    if x >= cols or y >= rows:\n",
    "        return\n",
    "\n",
    "    Err[y, x] = 0\n",
    "    if R[y, x] != 0:\n",
    "        for k in range(K):\n",
    "            UReg[y, k] = U[y, k] ** 2\n",
    "            IReg[k, x] = I[k, x] ** 2\n",
    "        Err[y, x] = (R[y, x] - P[y, x]) ** 2\n",
    "\n",
    "\n",
    "@cuda.jit('void(float32[:,:], float32[:,:], float32[:,:], float32[:,:])')\n",
    "def factorize(R, P, U, I):\n",
    "    x, y = cuda.grid(2)\n",
    "    if x >= cols or y >= rows:\n",
    "        return\n",
    "\n",
    "    if R[y, x] != 0:\n",
    "        for k in range(K):\n",
    "            err_U = 0\n",
    "            for j in range(cols):\n",
    "                if R[y, j] != 0:\n",
    "                    err_U += (R[y, j] - P[y, j]) * I[k, j]\n",
    "            err_I = 0\n",
    "            for i in range(rows):\n",
    "                if R[i, x] != 0:\n",
    "                    err_I += (R[i, x] - P[i, x]) * U[i, k]\n",
    "\n",
    "            U[y, k] += alpha * 2 * (err_U - beta * U[y, k])\n",
    "            I[k, x] += alpha * 2 * (err_I - beta * I[k, x])"
   ]
  },
  {
   "cell_type": "code",
   "execution_count": 8,
   "metadata": {},
   "outputs": [],
   "source": [
    "@cuda.jit\n",
    "def increment_by_one(an_array):\n",
    "    # Thread id in a 1D block\n",
    "    tx = cuda.threadIdx.x\n",
    "    # Block id in a 1D grid\n",
    "    ty = cuda.blockIdx.x\n",
    "    # Block width, i.e. number of threads per block\n",
    "    bw = cuda.blockDim.x\n",
    "    # Compute flattened index inside the array\n",
    "    pos = tx + ty * bw\n",
    "    if pos < an_array.size:  # Check array boundaries\n",
    "        an_array[pos] += 1"
   ]
  },
  {
   "cell_type": "code",
   "execution_count": 115,
   "metadata": {},
   "outputs": [],
   "source": [
    "# @cuda.jit('void(float32[:], float32[:,:], float32[:, :])')\n",
    "# def predict(U, I, P, userID, itemID):\n",
    "# @cuda.jit('void(float32[:])')\n",
    "@cuda.jit\n",
    "def predict(P, U, I, userID, itemID):\n",
    "    # Thread id in a 1D block\n",
    "    tx = cuda. threadIdx.x\n",
    "    # Block id in a 1D grid\n",
    "    ty = cuda.blockIdx.x\n",
    "    # Block width\n",
    "    bw = cuda.blockDim.x\n",
    "    # compute flattened index inside the array\n",
    "    pos = tx + ty * bw\n",
    "    \n",
    "    if pos >= count:\n",
    "        return \n",
    "    \n",
    "    uid, iid = pos // numberOfItems, pos % numberOfItems\n",
    "    \n",
    "#     uid = userID[pos]\n",
    "#     iid = itemID[pos]\n",
    "\n",
    "    P[uid, iid] = 0\n",
    "    for k in range(K):\n",
    "        P[uid, iid] += U[uid, k] * I[iid, k]"
   ]
  },
  {
   "cell_type": "code",
   "execution_count": 95,
   "metadata": {},
   "outputs": [],
   "source": [
    "# @cuda.jit('void(float32[:], float32[:], float32[:,:], float32[:,:], int32[:], int32[:])')\n",
    "@cuda.jit\n",
    "def factorization(R, P, U, I, userID, itemID):\n",
    "    # Thread id in a 1D block\n",
    "    tx = cuda.threadIdx.x\n",
    "    # Block id in a 1D grid\n",
    "    ty = cuda.blockIdx.x\n",
    "    # Block width\n",
    "    bw = cuda.blockDim.x\n",
    "    # compute flattened index inside the array\n",
    "    pos = tx + ty * bw\n",
    "    \n",
    "    if pos >= count:\n",
    "        return \n",
    "    \n",
    "    uid = userID[pos]\n",
    "    iid = itemID[pos]\n",
    "    \n",
    "#     if rating[pos] != 0:\n",
    "    for k in range(K):\n",
    "        err_U = (R[pos] - P[pos]) * I[iid, k]\n",
    "        U[uid, k] += lr * (err_U - lambda_u * U[uid, k])\n",
    "        if U[uid, k] < 0:\n",
    "            U[uid, k] = 1e-8\n",
    "    for k in range(K):\n",
    "        err_I = (R[pos] - P[pos]) * U[uid, k]\n",
    "        I[iid, k] += lr * (err_I - lambda_v * I[iid, k])\n",
    "\n",
    "        if I[iid, k] < 0:\n",
    "            I[iid, k] = 1e-8"
   ]
  },
  {
   "cell_type": "code",
   "execution_count": 40,
   "metadata": {},
   "outputs": [],
   "source": [
    "# @cuda.jit('void(float32[:], float32[:], float32[:,:], float32[:,:], int32[:], int32[:], float32[:], float32[:,:], float32[:,:])')\n",
    "@cuda.jit\n",
    "def error(R, P, U, I, userID, itemID, Err, UReg, IReg):\n",
    "    # Thread id in a 1D block\n",
    "    tx = cuda. threadIdx.x\n",
    "    # Block id in a 1D grid\n",
    "    ty = cuda.blockIdx.x\n",
    "    # Block width\n",
    "    bw = cuda.blockDim.x\n",
    "    # compute flattened index inside the array\n",
    "    pos = tx + ty * bw\n",
    "    \n",
    "    if pos >= count:\n",
    "        return \n",
    "    \n",
    "    uid = userID[pos]\n",
    "    iid = itemID[pos]\n",
    "    \n",
    "    Err[pos] = 0\n",
    "    Err[pos] = (R[pos] - P[pos]) ** 2\n",
    "    for k in range(K):\n",
    "        UReg[uid, k] = U[uid, k] ** 2\n",
    "        IReg[iid, k] = I[iid, k] ** 2"
   ]
  },
  {
   "cell_type": "code",
   "execution_count": 96,
   "metadata": {},
   "outputs": [],
   "source": [
    "K = 20\n",
    "# user vector\n",
    "hU = np.asarray(np.random.rand(numberOfUsers, K), dtype=np.float32)\n",
    "# item vector\n",
    "hI = np.asarray(np.random.rand(numberOfItems, K), dtype=np.float32)\n",
    "# predicted ratings\n",
    "hR = rating\n",
    "hP = rating.copy()\n",
    "\n",
    "\n",
    "# for calculate errors with CUDA kernel\n",
    "hErr = rating.copy()\n",
    "hUReg = np.zeros((numberOfUsers, K), dtype=np.float32)\n",
    "hIReg = np.zeros((numberOfItems, K), dtype=np.float32)\n",
    "\n",
    "# transfer the above variables to GPU\n",
    "stream = cuda.stream()\n",
    "with stream.auto_synchronize():\n",
    "    dR = cuda.to_device(hR)\n",
    "    dU = cuda.to_device(hU)\n",
    "    dI = cuda.to_device(hI)\n",
    "    dP = cuda.to_device(hP)\n",
    "    dErr = cuda.to_device(hErr)\n",
    "    dUReg = cuda.to_device(hUReg)\n",
    "    dIReg = cuda.to_device(hIReg)\n",
    "    duserID = cuda.to_device(userID)\n",
    "    ditemID = cuda.to_device(itemID)\n",
    "# auto_synchronize ensures that transfer processes finished"
   ]
  },
  {
   "cell_type": "code",
   "execution_count": 83,
   "metadata": {},
   "outputs": [],
   "source": [
    "import matplotlib.pyplot as plt"
   ]
  },
  {
   "cell_type": "code",
   "execution_count": 97,
   "metadata": {},
   "outputs": [
    {
     "name": "stdout",
     "output_type": "stream",
     "text": [
      "4.36646784632\n",
      "[  1.27711415e-01   2.73005366e-02   2.18677044e-01   2.87168473e-01\n",
      "   9.99999994e-09   3.60321075e-01   5.49782574e-01   4.82798040e-01\n",
      "   4.31098580e-01   3.30250323e-01   2.93220907e-01   2.58015275e-01\n",
      "   3.55352789e-01   6.03583813e-01   3.11299026e-01   3.46822858e-01\n",
      "   5.10490537e-01   8.24061111e-02   2.70962834e-01   9.99999994e-09]\n",
      "[ 0.90269977  0.07450507  0.24800032  0.66883618  0.21006033  0.95028663\n",
      "  0.55938357  0.48417246  0.46926296  0.583103    0.14201781  0.10505753\n",
      "  0.51840466  0.60463852  0.31076449  0.89733249  0.08319867  0.34927166\n",
      "  0.5606395   0.4873043 ]\n",
      "2.89123189332\n",
      "[ 2.34348369  2.72665453  2.04438591  2.56312156  2.04956937  2.77889514\n",
      "  2.4592607   2.67651367  2.28324461  2.38312268  2.80463362  2.67323279\n",
      "  2.95147395  2.5310123   2.58674359  2.60721612  3.11980581  2.72746873\n",
      "  2.42530656  2.54916453]\n",
      "[ 0.90655965  0.09298588  0.27538621  0.68985093  0.22226816  0.99274606\n",
      "  0.6213069   0.51100641  0.47707599  0.62723631  0.19088902  0.14039871\n",
      "  0.56862968  0.70406193  0.37353608  0.98880613  0.18454655  0.47466359\n",
      "  0.70071989  0.55607003]\n",
      "26.305844605\n",
      "[  9.99999994e-09   9.99999994e-09   9.99999994e-09   9.99999994e-09\n",
      "   9.99999994e-09   9.99999994e-09   9.99999994e-09   9.99999994e-09\n",
      "   9.99999994e-09   9.99999994e-09   9.99999994e-09   9.99999994e-09\n",
      "   9.99999994e-09   9.99999994e-09   9.99999994e-09   9.99999994e-09\n",
      "   9.99999994e-09   9.99999994e-09   9.99999994e-09   9.99999994e-09]\n",
      "[  9.99999994e-09   9.99999994e-09   9.99999994e-09   9.99999994e-09\n",
      "   9.99999994e-09   9.99999994e-09   9.99999994e-09   9.99999994e-09\n",
      "   9.99999994e-09   9.99999994e-09   9.99999994e-09   1.40117988e-01\n",
      "   5.67492902e-01   7.02654421e-01   3.72789294e-01   9.86829400e-01\n",
      "   9.99999994e-09   4.73714650e-01   6.99319065e-01   5.54958344e-01]\n",
      "4.49787616939e-08\n",
      "[ 19.81600761  18.7057457   16.09723663  17.02992439  18.74193573\n",
      "  18.83837891  21.71100616  20.85710144  19.91350365  22.97691154\n",
      "  21.28450203  20.41252327  17.65855217  19.04786301  22.42910767\n",
      "  22.1631794   22.3180542   21.02225685  21.74280548  24.93228531]\n",
      "[  1.25858017e-08   1.26857023e-08   1.27856019e-08   1.28855016e-08\n",
      "   1.31829063e-08   1.30828059e-08   1.35794140e-08   1.66593370e-08\n",
      "   5.15273958e-03   1.48203382e-02   3.47564705e-02   1.64853811e-01\n",
      "   5.94394326e-01   7.62981355e-01   5.02912760e-01   1.06751800e+00\n",
      "   5.09226657e-02   5.28420925e-01   7.72117496e-01   6.62946284e-01]\n",
      "110.078640572\n",
      "[  9.99999994e-09   9.99999994e-09   9.99999994e-09   9.99999994e-09\n",
      "   9.99999994e-09   9.99999994e-09   9.99999994e-09   9.99999994e-09\n",
      "   9.99999994e-09   9.99999994e-09   9.99999994e-09   9.99999994e-09\n",
      "   9.99999994e-09   9.99999994e-09   9.99999994e-09   9.99999994e-09\n",
      "   9.99999994e-09   9.99999994e-09   9.99999994e-09   9.99999994e-09]\n",
      "[  9.99999994e-09   9.99999994e-09   9.99999994e-09   9.99999994e-09\n",
      "   9.99999994e-09   9.99999994e-09   9.99999994e-09   9.99999994e-09\n",
      "   9.99999994e-09   9.99999994e-09   9.99999994e-09   9.99999994e-09\n",
      "   9.99999994e-09   9.99999994e-09   9.99999994e-09   9.99999994e-09\n",
      "   9.99999994e-09   9.99999994e-09   9.99999994e-09   9.99999994e-09]\n"
     ]
    },
    {
     "data": {
      "image/png": "[encoded data removed]",
      "text/plain": [
       "<Figure size 432x288 with 1 Axes>"
      ]
     },
     "metadata": {
      "needs_background": "light"
     },
     "output_type": "display_data"
    }
   ],
   "source": [
    "# def run_mf(iter=50):\n",
    "global stream, dR, dP, dU, dI, duserID, ditemID, dErr, dUReg, dIReg\n",
    "errors = []\n",
    "e = []\n",
    "for _ in range(5):\n",
    "    predict[blockspergrid, threadsperblock, stream](dP, dU, dI, duserID, ditemID)\n",
    "    stream.synchronize()\n",
    "    \n",
    "    factorization[blockspergrid, threadsperblock, stream](dR, dP, dU, dI, duserID, ditemID)\n",
    "    stream.synchronize()\n",
    "\n",
    "    error[blockspergrid, threadsperblock, stream](dR, dP, dU, dI, duserID, ditemID, dErr, dUReg, dIReg)\n",
    "    stream.synchronize()\n",
    "\n",
    "    Err = np.sum(dErr.copy_to_host())\n",
    "    UReg = np.sum(dUReg.copy_to_host())\n",
    "    IReg = np.sum(dIReg.copy_to_host())\n",
    "    hReg = dUReg.copy_to_host()\n",
    "    hU = dU.copy_to_host()\n",
    "    hI = dI.copy_to_host()\n",
    "    hP = dP.copy_to_host()\n",
    "    errors.append(Err + lambda_u * UReg + lambda_v * IReg)\n",
    "    e.append(Err)\n",
    "    print(hP[0])\n",
    "    print(hU[0])\n",
    "    print(hI[0])\n",
    "\n",
    "plt.plot(errors)\n",
    "plt.xlabel('iteration')\n",
    "plt.ylabel('error')\n",
    "plt.show()"
   ]
  },
  {
   "cell_type": "code",
   "execution_count": 87,
   "metadata": {},
   "outputs": [
    {
     "data": {
      "text/plain": [
       "4.0"
      ]
     },
     "execution_count": 87,
     "metadata": {},
     "output_type": "execute_result"
    }
   ],
   "source": [
    "rating[0]"
   ]
  },
  {
   "cell_type": "code",
   "execution_count": 48,
   "metadata": {},
   "outputs": [
    {
     "data": {
      "text/plain": [
       "array([ 5.07755622,  3.49901796,  3.39527903, ...,  4.78531418,\n",
       "        7.31057496,  6.37411828])"
      ]
     },
     "execution_count": 48,
     "metadata": {},
     "output_type": "execute_result"
    }
   ],
   "source": [
    "predict[blockspergrid, threadsperblock, stream](dP, dU, dI, duserID, ditemID)\n",
    "stream.synchronize()\n",
    "\n",
    "hP = dP.copy_to_host()\n",
    "\n",
    "dP = cuda.to_device(hP)\n",
    "hP"
   ]
  },
  {
   "cell_type": "code",
   "execution_count": 80,
   "metadata": {},
   "outputs": [
    {
     "data": {
      "text/plain": [
       "array([ nan,  nan,  nan, ...,  nan,  nan,  nan])"
      ]
     },
     "execution_count": 80,
     "metadata": {},
     "output_type": "execute_result"
    }
   ],
   "source": [
    "factorization[blockspergrid, threadsperblock, stream](dR, dP, dU, dI, duserID, ditemID)\n",
    "stream.synchronize()\n",
    "predict[blockspergrid, threadsperblock, stream](dP, dU, dI, duserID, ditemID)\n",
    "stream.synchronize()\n"
   ]
  },
  {
   "cell_type": "code",
   "execution_count": 81,
   "metadata": {},
   "outputs": [
    {
     "data": {
      "text/plain": [
       "array([ nan,  nan,  nan, ...,  nan,  nan,  nan])"
      ]
     },
     "execution_count": 81,
     "metadata": {},
     "output_type": "execute_result"
    }
   ],
   "source": [
    "hP = dP.copy_to_host()\n",
    "hP"
   ]
  },
  {
   "cell_type": "code",
   "execution_count": 44,
   "metadata": {},
   "outputs": [
    {
     "data": {
      "text/plain": [
       "array([ nan,  nan,  nan, ...,  nan,  nan,  nan])"
      ]
     },
     "execution_count": 44,
     "metadata": {},
     "output_type": "execute_result"
    }
   ],
   "source": []
  },
  {
   "cell_type": "code",
   "execution_count": null,
   "metadata": {},
   "outputs": [],
   "source": []
  }
 ],
 "metadata": {
  "kernelspec": {
   "display_name": "Python 3",
   "language": "python",
   "name": "python3"
  },
  "language_info": {
   "codemirror_mode": {
    "name": "ipython",
    "version": 3
   },
   "file_extension": ".py",
   "mimetype": "text/x-python",
   "name": "python",
   "nbconvert_exporter": "python",
   "pygments_lexer": "ipython3",
   "version": "3.6.6"
  }
 },
 "nbformat": 4,
 "nbformat_minor": 2
}

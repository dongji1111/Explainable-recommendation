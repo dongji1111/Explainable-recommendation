{
 "cells": [
  {
   "cell_type": "markdown",
   "metadata": {},
   "source": [
    "## Variables\n",
    "We need to define some variables for CUDA kernel."
   ]
  },
  {
   "cell_type": "code",
   "execution_count": 1,
   "metadata": {},
   "outputs": [],
   "source": [
    "import numpy as np\n",
    "import matplotlib.pyplot as plt\n",
    "from numba import cuda\n",
    "np.random.seed(1234)\n",
    "cuda.select_device(0)\n",
    "\n",
    "global stream, dR, dP, dU, dI\n",
    "\n",
    "K = 20"
   ]
  },
  {
   "cell_type": "code",
   "execution_count": 2,
   "metadata": {},
   "outputs": [
    {
     "name": "stdout",
     "output_type": "stream",
     "text": [
      "Preparing data.........\n",
      "Finish preparing data\n"
     ]
    }
   ],
   "source": [
    "file = open(\"yelp_train.txt\", 'r')\n",
    "lines = file.readlines()\n",
    "numberOfUsers = 0\n",
    "numberOfItems = 0\n",
    "userID = np.zeros((len(lines)), dtype=int)\n",
    "itemID = np.zeros((len(lines)), dtype=int)\n",
    "rating = np.zeros((len(lines)))\n",
    "count = 0\n",
    "\n",
    "print(\"Preparing data.........\")\n",
    "for line in lines:\n",
    "    listOfLine = line.split(\"\\n\")[0].split(\",\")\n",
    "    userID[count] = int(listOfLine[0])\n",
    "    # print(userID[count])\n",
    "    \n",
    "    if userID[count] + 1 > numberOfUsers:\n",
    "        numberOfUsers = userID[count] + 1\n",
    "        \n",
    "    itemID[count] = int(listOfLine[1])\n",
    "    # print(itemID[count])\n",
    "    if itemID[count] + 1 > numberOfItems:\n",
    "        numberOfItems = itemID[count] + 1\n",
    "    rating[count] = float(listOfLine[2])\n",
    "    count = count + 1\n",
    "print(\"Finish preparing data\")"
   ]
  },
  {
   "cell_type": "code",
   "execution_count": 3,
   "metadata": {},
   "outputs": [
    {
     "name": "stdout",
     "output_type": "stream",
     "text": [
      "Finish preparing data\n"
     ]
    }
   ],
   "source": [
    "rating_matrix = np.zeros((numberOfUsers, numberOfItems))\n",
    "for line in lines:\n",
    "    listOfLine = line.split(\"\\n\")[0].split(\",\")\n",
    "    uID = int(listOfLine[0])    \n",
    "    iID = int(listOfLine[1])\n",
    "    r = float(listOfLine[2])\n",
    "    rating_matrix[uID, iID] = r\n",
    "#     count = count + 1\n",
    "\n",
    "print(\"Finish preparing data\")"
   ]
  },
  {
   "cell_type": "code",
   "execution_count": 36,
   "metadata": {},
   "outputs": [],
   "source": [
    "K = 4\n",
    "numberOfUsers = 50\n",
    "numberOfItems = 50\n",
    "rating_matrix = np.random.rand(numberOfUsers, numberOfItems)"
   ]
  },
  {
   "cell_type": "code",
   "execution_count": 40,
   "metadata": {
    "collapsed": false
   },
   "outputs": [],
   "source": [
    "hR = rating_matrix\n",
    "# user vector\n",
    "hU = np.asarray(np.random.rand(numberOfUsers, K), dtype=np.float32)\n",
    "\n",
    "# item vector\n",
    "hI = np.asarray(np.random.rand(K, numberOfItems), dtype=np.float32)\n",
    "\n",
    "# predicted ratings\n",
    "hP = np.zeros(rating_matrix.shape)\n",
    "\n",
    "# for calculate errors with CUDA kernel\n",
    "hErr = np.zeros((numberOfUsers, numberOfItems), dtype=np.float32)\n",
    "hUReg = np.zeros((numberOfUsers, K), dtype=np.float32)\n",
    "hIReg = np.zeros((K, numberOfItems), dtype=np.float32)\n",
    "\n",
    "# transfer the above variables to GPU\n",
    "stream = cuda.stream()\n",
    "with stream.auto_synchronize():\n",
    "    dR = cuda.to_device(hR)\n",
    "    dU = cuda.to_device(hU)\n",
    "    dI = cuda.to_device(hI)\n",
    "    dP = cuda.to_device(hP)\n",
    "    dErr = cuda.to_device(hErr)\n",
    "    dUReg = cuda.to_device(hUReg)\n",
    "    dIReg = cuda.to_device(hIReg)\n",
    "# auto_synchronize ensures that transfer processes finished"
   ]
  },
  {
   "cell_type": "markdown",
   "metadata": {},
   "source": [
    "## Parameters"
   ]
  },
  {
   "cell_type": "code",
   "execution_count": 64,
   "metadata": {
    "collapsed": false
   },
   "outputs": [],
   "source": [
    "alpha = 0.05\n",
    "beta = 0"
   ]
  },
  {
   "cell_type": "markdown",
   "metadata": {},
   "source": [
    "`alpha` denotes learning rate. `beta` denotes the weight for regularization term."
   ]
  },
  {
   "cell_type": "code",
   "execution_count": 42,
   "metadata": {},
   "outputs": [],
   "source": [
    "blockdim = (32, 32)\n",
    "griddim = (numberOfUsers//blockdim[0]+1, numberOfItems//blockdim[1]+1)"
   ]
  },
  {
   "cell_type": "markdown",
   "metadata": {},
   "source": [
    "## CUDA kernels"
   ]
  },
  {
   "cell_type": "code",
   "execution_count": 43,
   "metadata": {},
   "outputs": [],
   "source": [
    "# @cuda.jit('void(float32[:,:], float32[:,:], float32[:,:])')\n",
    "@cuda.jit\n",
    "def predict(U, I, P):\n",
    "    tx = cuda.threadIdx.x\n",
    "    ty = cuda.threadIdx.y\n",
    "    bx = cuda.blockIdx.x\n",
    "    by = cuda.blockIdx.y\n",
    "    bw = cuda.blockDim.x\n",
    "    bh = cuda.blockDim.y\n",
    "    x = tx + bx * bw\n",
    "    y = ty + by * bh\n",
    "    \n",
    "    if x < P.shape[0] and y < P.shape[1]:\n",
    "        P[x, y] = 0\n",
    "        for k in range(K):\n",
    "            P[x, y] += U[x, k] * I[k, y]\n",
    "            cuda.syncthreads()"
   ]
  },
  {
   "cell_type": "code",
   "execution_count": 44,
   "metadata": {
    "collapsed": false
   },
   "outputs": [],
   "source": [
    "# @cuda.jit('void(float32[:,:], float32[:,:], float32[:,:], float32[:,:], float32[:,:], float32[:,:], float32[:,:])')\n",
    "@cuda.jit\n",
    "def error(R, P, U, I, Err, UReg, IReg):\n",
    "    i = cuda.threadIdx.x + cuda.blockIdx.x * cuda.blockDim.x\n",
    "    j = cuda.threadIdx.y + cuda.blockIdx.y * cuda.blockDim.y\n",
    "    \n",
    "    if i < Err.shape[0] and j < Err.shape[1]:\n",
    "        Err[i, j] = 0\n",
    "        if R[i, j] != 0:\n",
    "            for k in range(K):\n",
    "                UReg[i, k] = U[i, k] ** 2\n",
    "                IReg[k, j] = I[k, j] ** 2\n",
    "            Err[i, j] = (R[i, j] - P[i, j]) ** 2\n",
    "\n",
    "# @cuda.jit('void(float32[:,:], float32[:,:], float32[:,:], float32[:,:])')\n",
    "@cuda.jit\n",
    "def factorize(R, P, U, I):\n",
    "    i = cuda.threadIdx.x + cuda.blockIdx.x * cuda.blockDim.x\n",
    "    j = cuda.threadIdx.y + cuda.blockIdx.y * cuda.blockDim.y\n",
    "    \n",
    "    if i < R.shape[0] and j < R.shape[1]:\n",
    "    \n",
    "        if R[i, j] != 0:\n",
    "            for k in range(K):\n",
    "    #             err_U = (R[i, j] - P[i, j]) * I[j, k]\n",
    "                err_U = 0\n",
    "                for c in range(R.shape[1]):\n",
    "                    if R[i, c] != 0:\n",
    "                        err_U += (R[i, c] - P[i, c]) * I[k, c]\n",
    "                err_I = 0\n",
    "                for c in range(R.shape[0]):\n",
    "                    if R[c, j] != 0:\n",
    "                        err_I += (R[c, j] - P[c, j]) * U[c, k]\n",
    "    #             err_I = (R[i, j] - P[i, j]) * U[i, k]\n",
    "\n",
    "                U[i, k] += alpha * 2 * (err_U - beta * U[i, k])\n",
    "                I[k, j] += alpha * 2 * (err_I - beta * I[k, j])\n",
    "        else:\n",
    "            return\n"
   ]
  },
  {
   "cell_type": "code",
   "execution_count": 65,
   "metadata": {},
   "outputs": [],
   "source": [
    "# test error func"
   ]
  },
  {
   "cell_type": "code",
   "execution_count": 78,
   "metadata": {},
   "outputs": [
    {
     "data": {
      "text/plain": [
       "1.9837668267123182e+56"
      ]
     },
     "execution_count": 78,
     "metadata": {},
     "output_type": "execute_result"
    }
   ],
   "source": [
    "np.multiply(hP - hR, hP - hR).sum()"
   ]
  },
  {
   "cell_type": "code",
   "execution_count": 76,
   "metadata": {},
   "outputs": [],
   "source": [
    "error[griddim, blockdim](hR, hP, hU, hI, hErr, hUReg, hIReg)\n",
    "stream.synchronize()"
   ]
  },
  {
   "cell_type": "code",
   "execution_count": 77,
   "metadata": {},
   "outputs": [
    {
     "data": {
      "text/plain": [
       "array([[             inf,              inf,              inf, ...,\n",
       "                     inf,              inf,              inf],\n",
       "       [             inf,              inf,              inf, ...,\n",
       "                     inf,              inf,              inf],\n",
       "       [             inf,              inf,              inf, ...,\n",
       "                     inf,              inf,              inf],\n",
       "       ..., \n",
       "       [             inf,              inf,              inf, ...,\n",
       "          6.15480317e+37,   1.49759339e+38,   1.14645489e+38],\n",
       "       [             inf,              inf,              inf, ...,\n",
       "          4.17713969e+37,   1.01633532e+38,   7.78018122e+37],\n",
       "       [             inf,              inf,              inf, ...,\n",
       "          3.18117669e+38,              inf,              inf]], dtype=float32)"
      ]
     },
     "execution_count": 77,
     "metadata": {},
     "output_type": "execute_result"
    }
   ],
   "source": [
    "hErr"
   ]
  },
  {
   "cell_type": "markdown",
   "metadata": {},
   "source": [
    "## Perform Matrix Factorization"
   ]
  },
  {
   "cell_type": "code",
   "execution_count": 61,
   "metadata": {
    "collapsed": false
   },
   "outputs": [
    {
     "data": {
      "image/png": "[encoded data removed]",
      "text/plain": [
       "<Figure size 432x288 with 1 Axes>"
      ]
     },
     "metadata": {
      "needs_background": "light"
     },
     "output_type": "display_data"
    }
   ],
   "source": [
    "# def run_mf(iter=500):\n",
    "errors = []\n",
    "for i in range(1):\n",
    "#     print(i)\n",
    "    predict[griddim, blockdim, stream](dU, dI, dP)\n",
    "    stream.synchronize()\n",
    "#     cuda.syncthreads()\n",
    "\n",
    "    factorize[griddim, blockdim, stream](dR, dP, dU, dI)\n",
    "    stream.synchronize()\n",
    "#     cuda.syncthreads()\n",
    "\n",
    "    error[griddim, blockdim, stream](dR, dP, dU, dI, dErr, dUReg, dIReg)\n",
    "    stream.synchronize()\n",
    "#     cuda.syncthreads()\n",
    "\n",
    "    Err = np.sum(dErr.copy_to_host())\n",
    "    UReg = np.sum(dUReg.copy_to_host())\n",
    "    IReg = np.sum(dIReg.copy_to_host())\n",
    "    errors.append(Err + beta * (UReg + IReg))\n",
    "    hP = dP.copy_to_host()\n",
    "    hU = dU.copy_to_host()\n",
    "    hI = dI.copy_to_host()\n",
    "#     print(Err)\n",
    "#     print(hU[0])\n",
    "#     print(hI[0])\n",
    "#     print(hP[0])\n",
    "\n",
    "plt.plot(errors)\n",
    "plt.xlabel('iteration')\n",
    "plt.ylabel('error')\n",
    "plt.show()"
   ]
  },
  {
   "cell_type": "code",
   "execution_count": 62,
   "metadata": {},
   "outputs": [
    {
     "data": {
      "text/plain": [
       "nan"
      ]
     },
     "execution_count": 62,
     "metadata": {},
     "output_type": "execute_result"
    }
   ],
   "source": [
    "hU.sum()"
   ]
  },
  {
   "cell_type": "markdown",
   "metadata": {},
   "source": [
    "## Result"
   ]
  },
  {
   "cell_type": "code",
   "execution_count": 76,
   "metadata": {
    "collapsed": false
   },
   "outputs": [
    {
     "name": "stdout",
     "output_type": "stream",
     "text": [
      "Observed rating matrix\n",
      "[[ 5.  3.  0.  1.]\n",
      " [ 4.  0.  0.  1.]\n",
      " [ 1.  1.  0.  5.]\n",
      " [ 1.  0.  0.  4.]\n",
      " [ 0.  1.  5.  4.]]\n",
      "--------------------------------------------------\n",
      "Predicted rating matrix\n",
      "[[ 0.30877635  0.38768598  0.31201467 ...,  0.30620095  0.73620611\n",
      "   0.40741983]\n",
      " [ 0.56883901  0.89716887  0.5537101  ...,  0.59741771  1.22188342\n",
      "   0.42181376]\n",
      " [ 0.75221169  1.0600642   0.74676991 ...,  0.76699609  1.70855331\n",
      "   0.7847659 ]\n",
      " ..., \n",
      " [ 0.3073698   0.57529587  0.28875893 ...,  0.33929792  0.59375763\n",
      "   0.06528515]\n",
      " [ 0.29941389  0.28931412  0.31254068 ...,  0.28114071  0.77750266\n",
      "   0.55070311]\n",
      " [ 0.20411971  0.34387603  0.1961613  ...,  0.21837075  0.42234066\n",
      "   0.1119393 ]]\n"
     ]
    }
   ],
   "source": [
    "print('Observed rating matrix')\n",
    "print(hR)\n",
    "print('-' * 50)\n",
    "print('Predicted rating matrix')\n",
    "print(dU.copy_to_host().dot(dI.copy_to_host()))"
   ]
  },
  {
   "cell_type": "markdown",
   "metadata": {},
   "source": [
    "You can see that elements that have 0 in observed matrix have been filled with predicted values and observed values have been approximated. The estimated user vector and item vector are:"
   ]
  },
  {
   "cell_type": "code",
   "execution_count": 19,
   "metadata": {
    "collapsed": false
   },
   "outputs": [
    {
     "name": "stdout",
     "output_type": "stream",
     "text": [
      "User vector\n",
      "[[ 0.36731917  2.32105517]\n",
      " [ 0.37745658  1.78174734]\n",
      " [ 2.06740808  0.31214419]\n",
      " [ 1.63157201  0.31391308]\n",
      " [ 1.68681598  1.06579304]]\n",
      "--------------------------------------------------\n",
      "Item vector\n",
      "[[ 0.195508    0.15095763  1.93585849  2.40482998]\n",
      " [ 2.15898776  1.16406178  1.45912766  0.04531301]]\n"
     ]
    }
   ],
   "source": [
    "print('User vector')\n",
    "print(dU.copy_to_host())\n",
    "print('-' * 50)\n",
    "print('Item vector')\n",
    "print(dI.copy_to_host())"
   ]
  },
  {
   "cell_type": "markdown",
   "metadata": {},
   "source": [
    "Each row in user vector describe each user's feature and each column in item vector describe each item's feature."
   ]
  },
  {
   "cell_type": "markdown",
   "metadata": {},
   "source": [
    "(c) 2014 Shunta Saito. All Rights Reserved."
   ]
  }
 ],
 "metadata": {
  "kernelspec": {
   "display_name": "Python 3",
   "language": "python",
   "name": "python3"
  },
  "language_info": {
   "codemirror_mode": {
    "name": "ipython",
    "version": 3
   },
   "file_extension": ".py",
   "mimetype": "text/x-python",
   "name": "python",
   "nbconvert_exporter": "python",
   "pygments_lexer": "ipython3",
   "version": "3.6.6"
  }
 },
 "nbformat": 4,
 "nbformat_minor": 2
}
